{
 "cells": [
  {
   "cell_type": "markdown",
   "metadata": {},
   "source": [
    "# Chapter 4\n",
    "## Basic scripting"
   ]
  },
  {
   "cell_type": "code",
   "execution_count": 2,
   "metadata": {},
   "outputs": [],
   "source": [
    "from matplotlib import pyplot as plt\n",
    "import pandas as pd\n",
    "import numpy as np\n",
    "\n",
    "# This line is only needed for this workshop\n",
    "from done import imdone"
   ]
  },
  {
   "cell_type": "markdown",
   "metadata": {},
   "source": [
    "## Repeating actions\n",
    "Suppose you have a number of files you would like to analyze. One possibility it to copy-paste your code but that is inefficient. Instead we will use `for` loops.\n",
    "\n",
    "We'll use a simple example where we would like to print the letter in the word \"lead\". One way of doing this is:"
   ]
  },
  {
   "cell_type": "code",
   "execution_count": 2,
   "metadata": {},
   "outputs": [
    {
     "name": "stdout",
     "output_type": "stream",
     "text": [
      "l\n",
      "e\n",
      "a\n",
      "d\n"
     ]
    }
   ],
   "source": [
    "word = \"lead\"\n",
    "print(word[0])\n",
    "print(word[1])\n",
    "print(word[2])\n",
    "print(word[3])"
   ]
  },
  {
   "cell_type": "markdown",
   "metadata": {},
   "source": [
    "But this is very cumbersome. For example, if we want to use the same code to print the letters of the word \"tin\", you'd have to remove the last print statement or you will get an error."
   ]
  },
  {
   "cell_type": "code",
   "execution_count": 3,
   "metadata": {},
   "outputs": [
    {
     "name": "stdout",
     "output_type": "stream",
     "text": [
      "t\n",
      "i\n",
      "n\n"
     ]
    },
    {
     "ename": "IndexError",
     "evalue": "string index out of range",
     "output_type": "error",
     "traceback": [
      "\u001b[0;31m---------------------------------------------------------------------------\u001b[0m",
      "\u001b[0;31mIndexError\u001b[0m                                Traceback (most recent call last)",
      "\u001b[0;32m<ipython-input-3-6476c52f2f59>\u001b[0m in \u001b[0;36m<module>\u001b[0;34m\u001b[0m\n\u001b[1;32m      3\u001b[0m \u001b[0mprint\u001b[0m\u001b[0;34m(\u001b[0m\u001b[0mword\u001b[0m\u001b[0;34m[\u001b[0m\u001b[0;36m1\u001b[0m\u001b[0;34m]\u001b[0m\u001b[0;34m)\u001b[0m\u001b[0;34m\u001b[0m\u001b[0;34m\u001b[0m\u001b[0m\n\u001b[1;32m      4\u001b[0m \u001b[0mprint\u001b[0m\u001b[0;34m(\u001b[0m\u001b[0mword\u001b[0m\u001b[0;34m[\u001b[0m\u001b[0;36m2\u001b[0m\u001b[0;34m]\u001b[0m\u001b[0;34m)\u001b[0m\u001b[0;34m\u001b[0m\u001b[0;34m\u001b[0m\u001b[0m\n\u001b[0;32m----> 5\u001b[0;31m \u001b[0mprint\u001b[0m\u001b[0;34m(\u001b[0m\u001b[0mword\u001b[0m\u001b[0;34m[\u001b[0m\u001b[0;36m3\u001b[0m\u001b[0;34m]\u001b[0m\u001b[0;34m)\u001b[0m\u001b[0;34m\u001b[0m\u001b[0;34m\u001b[0m\u001b[0m\n\u001b[0m",
      "\u001b[0;31mIndexError\u001b[0m: string index out of range"
     ]
    }
   ],
   "source": [
    "word = \"tin\"\n",
    "print(word[0])\n",
    "print(word[1])\n",
    "print(word[2])\n",
    "print(word[3])"
   ]
  },
  {
   "cell_type": "markdown",
   "metadata": {},
   "source": [
    "Instead we will use a `for` loop."
   ]
  },
  {
   "cell_type": "code",
   "execution_count": 4,
   "metadata": {},
   "outputs": [
    {
     "name": "stdout",
     "output_type": "stream",
     "text": [
      "l\n",
      "e\n",
      "a\n",
      "d\n"
     ]
    }
   ],
   "source": [
    "word = \"lead\"\n",
    "for letter in word:\n",
    "    print(letter)"
   ]
  },
  {
   "cell_type": "markdown",
   "metadata": {},
   "source": [
    "This is easily scalable. We can use much longer words and it will just work."
   ]
  },
  {
   "cell_type": "code",
   "execution_count": 5,
   "metadata": {},
   "outputs": [
    {
     "name": "stdout",
     "output_type": "stream",
     "text": [
      "o\n",
      "x\n",
      "y\n",
      "g\n",
      "e\n",
      "n\n"
     ]
    }
   ],
   "source": [
    "word = \"oxygen\"\n",
    "for letter in word:\n",
    "    print(letter)"
   ]
  },
  {
   "cell_type": "markdown",
   "metadata": {},
   "source": [
    "The general form of a `for` loop in Python is:\n",
    "```\n",
    "for variable in collection:\n",
    "    # do things using variable, such as print\n",
    "```\n",
    "Note the indentation we have been using. This is very important in Python. It tell Python what part of the code is supposed to be looped over."
   ]
  },
  {
   "cell_type": "markdown",
   "metadata": {},
   "source": [
    "### Quiz 1\n",
    "What would be the output of\n",
    "```\n",
    "word = \"copper\"\n",
    "for letter in word:\n",
    "    print(letter)\n",
    "    print(\".\")\n",
    "```\n",
    "Type your answer in the chat! Try to predict without running the code."
   ]
  },
  {
   "cell_type": "markdown",
   "metadata": {},
   "source": [
    "### Quiz 2\n",
    "And what would be the output of\n",
    "```\n",
    "word = \"copper\"\n",
    "for letter in word:\n",
    "    print(letter)\n",
    "print(\".\")\n",
    "```\n",
    "Type your answer in the chat! Try to predict without running the code."
   ]
  },
  {
   "cell_type": "markdown",
   "metadata": {},
   "source": [
    "## Variables and `for` loops"
   ]
  },
  {
   "cell_type": "markdown",
   "metadata": {},
   "source": [
    "Variables are available inside loops and can be updated as well."
   ]
  },
  {
   "cell_type": "code",
   "execution_count": 8,
   "metadata": {},
   "outputs": [
    {
     "name": "stdout",
     "output_type": "stream",
     "text": [
      "7\n"
     ]
    }
   ],
   "source": [
    "# Count the number of letters in a word\n",
    "length = 0\n",
    "word = \"pancake\"\n",
    "for letter in word:\n",
    "    length = length + 1\n",
    "print(length)"
   ]
  },
  {
   "cell_type": "markdown",
   "metadata": {},
   "source": [
    "Note that the function `len(word)` exists for counting the number of letters in a word. The above was just for demonstration purposes."
   ]
  },
  {
   "cell_type": "markdown",
   "metadata": {},
   "source": [
    "### Quiz 3\n",
    "What do you think the following code will output?\n",
    "```\n",
    "letter = \"z\"\n",
    "length = 0\n",
    "word = \"abc\"\n",
    "for letter in word:\n",
    "    length = length + 1\n",
    "print(letter)\n",
    "```\n",
    "Type your answer in the chat! Try to predict without running the code."
   ]
  },
  {
   "cell_type": "markdown",
   "metadata": {},
   "source": [
    "## More looping\n",
    "Often you want to run your loop over a range of numbers. Python provides the function `range(start, end, increment)` or just `range(length)` for that."
   ]
  },
  {
   "cell_type": "code",
   "execution_count": 9,
   "metadata": {},
   "outputs": [
    {
     "name": "stdout",
     "output_type": "stream",
     "text": [
      "2\n",
      "3\n",
      "4\n",
      "5\n"
     ]
    }
   ],
   "source": [
    "for i in range(2, 6):\n",
    "    print(i)"
   ]
  },
  {
   "cell_type": "code",
   "execution_count": 10,
   "metadata": {},
   "outputs": [
    {
     "name": "stdout",
     "output_type": "stream",
     "text": [
      "0\n",
      "1\n",
      "2\n",
      "3\n"
     ]
    }
   ],
   "source": [
    "for i in range(4):\n",
    "    print(i)"
   ]
  },
  {
   "cell_type": "markdown",
   "metadata": {},
   "source": [
    "Another useful function for looping is `enumerate(collection` which will provide the index as well as the element of the collection."
   ]
  },
  {
   "cell_type": "code",
   "execution_count": 12,
   "metadata": {},
   "outputs": [
    {
     "name": "stdout",
     "output_type": "stream",
     "text": [
      "Letter 0 is b\n",
      "Letter 1 is e\n",
      "Letter 2 is a\n",
      "Letter 3 is r\n"
     ]
    }
   ],
   "source": [
    "word = \"bear\"\n",
    "for index, value in enumerate(word):\n",
    "    print(f\"Letter {index} is {value}\")"
   ]
  },
  {
   "cell_type": "markdown",
   "metadata": {},
   "source": [
    "### Exercise 1\n",
    "Print the first, third, fifth, and so on letter of the alphabet by replacing the `...` below with the appropriate `for` loop. When you are done, run the `imdone()` function below."
   ]
  },
  {
   "cell_type": "code",
   "execution_count": null,
   "metadata": {},
   "outputs": [],
   "source": [
    "alphabet = \"abcdefghijklmnopqrstquvwxyz\"\n",
    "..."
   ]
  },
  {
   "cell_type": "code",
   "execution_count": 20,
   "metadata": {},
   "outputs": [
    {
     "name": "stdout",
     "output_type": "stream",
     "text": [
      "a\n",
      "c\n",
      "e\n",
      "g\n",
      "i\n",
      "k\n",
      "m\n",
      "o\n",
      "q\n",
      "s\n",
      "u\n",
      "w\n",
      "y\n"
     ]
    }
   ],
   "source": [
    "# Solution\n",
    "alphabet = \"abcdefghijklmnopqrstuvwxyz\"\n",
    "for i in range(0, len(alphabet), 2):\n",
    "    print(alphabet[i])"
   ]
  },
  {
   "cell_type": "code",
   "execution_count": null,
   "metadata": {},
   "outputs": [],
   "source": [
    "imdone(4,1)"
   ]
  },
  {
   "cell_type": "markdown",
   "metadata": {},
   "source": [
    "### Exercise 2\n",
    "Reverse the word stressed by replacing the `...` below with the appropriate `for` loop. When you are done, run the `imdone()` function below.\n",
    "\n",
    "HINT: You can add strings to create new one, `'a' + 'b'` results in `'ab'`."
   ]
  },
  {
   "cell_type": "code",
   "execution_count": 27,
   "metadata": {},
   "outputs": [],
   "source": [
    "word = \"stressed\"\n",
    "..."
   ]
  },
  {
   "cell_type": "code",
   "execution_count": 28,
   "metadata": {},
   "outputs": [
    {
     "name": "stdout",
     "output_type": "stream",
     "text": [
      "desserts\n"
     ]
    }
   ],
   "source": [
    "# Solution\n",
    "word = \"stressed\"\n",
    "reverse = \"\"\n",
    "for letter in word:\n",
    "    reverse = letter + reverse\n",
    "print(reverse)"
   ]
  },
  {
   "cell_type": "code",
   "execution_count": null,
   "metadata": {},
   "outputs": [],
   "source": [
    "imdone(4,2)"
   ]
  },
  {
   "cell_type": "markdown",
   "metadata": {},
   "source": [
    "## Conditional action\n",
    "Sometimes you want to perform an action on if certain conditions are met. For this Python supports `if` statements. The format is:\n",
    "```\n",
    "if condition:\n",
    "    do something\n",
    "elif othercondition:\n",
    "    do something else\n",
    "else:\n",
    "    do the other cases\n",
    "```\n",
    "For example:"
   ]
  },
  {
   "cell_type": "code",
   "execution_count": 30,
   "metadata": {},
   "outputs": [
    {
     "name": "stdout",
     "output_type": "stream",
     "text": [
      "num is larger than 20\n",
      "done\n"
     ]
    }
   ],
   "source": [
    "num = 25\n",
    "if num > 20:\n",
    "    print(\"num is larger than 20\")\n",
    "else:\n",
    "    print(\"num is not larger than 20\")\n",
    "print(\"done\")"
   ]
  },
  {
   "cell_type": "markdown",
   "metadata": {},
   "source": [
    "It is helpful to see `if` statements as flow charts\n",
    "<img src=\"https://swcarpentry.github.io/python-novice-inflammation/fig/python-flowchart-conditional.png\" />\n",
    "\n",
    "The code returns to the same path after the `if` statement has completed.\n",
    "\n",
    "Multiple conditions can be combined with `and` and `or` and `not`."
   ]
  },
  {
   "cell_type": "code",
   "execution_count": 32,
   "metadata": {},
   "outputs": [
    {
     "name": "stdout",
     "output_type": "stream",
     "text": [
      "num lies between 10 and 40\n"
     ]
    }
   ],
   "source": [
    "num = 25\n",
    "if (num > 10) and (num < 40):\n",
    "    print(\"num lies between 10 and 40\")\n",
    "    \n",
    "if not num > 10:\n",
    "    print(\"num is not greater than 10\")"
   ]
  },
  {
   "cell_type": "markdown",
   "metadata": {},
   "source": [
    "### Quiz 4\n",
    "Suppose `num` is 25, are the following conditions True or False?\n",
    "\n",
    "1. `(num > 10) or (num < 15)`\n",
    "1. `not (num > 10) and (num > 15)`\n",
    "1. `(num > 10) and ((num < 30) or (num > 25))`\n",
    "\n",
    "Type your answer in the chat! Try to predict without running the code."
   ]
  },
  {
   "cell_type": "markdown",
   "metadata": {},
   "source": [
    "### Quiz 5\n",
    "What do you think will happen if multiple conditions are true in an `if`/`elif` statement? For example, what is the output of\n",
    "```\n",
    "num = 10\n",
    "if num > 5:\n",
    "    print(\"Num is larger than 5\")\n",
    "elif num < 20:\n",
    "    print(\"Num is smaller than 20\")\n",
    "```\n",
    "Type your answer in the chat! Try to predict without running the code."
   ]
  },
  {
   "cell_type": "markdown",
   "metadata": {},
   "source": [
    "# Building blocks\n",
    "For programming, `for` loops and its cousin `while` together with `if` statements are the main building blocks for creating programs. You can create any program with it. We'll go through some data"
   ]
  },
  {
   "cell_type": "code",
   "execution_count": null,
   "metadata": {},
   "outputs": [],
   "source": []
  }
 ],
 "metadata": {
  "kernelspec": {
   "display_name": "Python 3",
   "language": "python",
   "name": "python3"
  },
  "language_info": {
   "codemirror_mode": {
    "name": "ipython",
    "version": 3
   },
   "file_extension": ".py",
   "mimetype": "text/x-python",
   "name": "python",
   "nbconvert_exporter": "python",
   "pygments_lexer": "ipython3",
   "version": "3.7.3"
  }
 },
 "nbformat": 4,
 "nbformat_minor": 2
}
